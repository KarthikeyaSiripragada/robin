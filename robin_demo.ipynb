{
 "cells": [
  {
   "cell_type": "markdown",
   "metadata": {},
   "source": [
    "# Robin"
   ]
  },
  {
   "cell_type": "code",
   "execution_count": null,
   "metadata": {},
   "outputs": [
    {
     "name": "stdout",
     "output_type": "stream",
     "text": [
      "env: PYTHONUTF8=1\n"
     ]
    },
    {
     "ename": "UnicodeDecodeError",
     "evalue": "'charmap' codec can't decode byte 0x81 in position 1980: character maps to <undefined>",
     "output_type": "error",
     "traceback": [
      "\u001b[31m---------------------------------------------------------------------------\u001b[39m",
      "\u001b[31mUnicodeDecodeError\u001b[39m                        Traceback (most recent call last)",
      "\u001b[36mCell\u001b[39m\u001b[36m \u001b[39m\u001b[32mIn[2]\u001b[39m\u001b[32m, line 3\u001b[39m\n\u001b[32m      1\u001b[39m get_ipython().run_line_magic(\u001b[33m'\u001b[39m\u001b[33menv\u001b[39m\u001b[33m'\u001b[39m, \u001b[33m'\u001b[39m\u001b[33mPYTHONUTF8=1\u001b[39m\u001b[33m'\u001b[39m)\n\u001b[32m      2\u001b[39m \u001b[38;5;28;01mimport\u001b[39;00m\u001b[38;5;250m \u001b[39m\u001b[34;01mlogging\u001b[39;00m\n\u001b[32m----> \u001b[39m\u001b[32m3\u001b[39m \u001b[38;5;28;01mfrom\u001b[39;00m\u001b[38;5;250m \u001b[39m\u001b[34;01mrobin\u001b[39;00m\u001b[34;01m.\u001b[39;00m\u001b[34;01mcandidates\u001b[39;00m\u001b[38;5;250m \u001b[39m\u001b[38;5;28;01mimport\u001b[39;00m therapeutic_candidates\n\u001b[32m      4\u001b[39m \u001b[38;5;28;01mfrom\u001b[39;00m\u001b[38;5;250m \u001b[39m\u001b[34;01mrobin\u001b[39;00m\u001b[34;01m.\u001b[39;00m\u001b[34;01mconfiguration\u001b[39;00m\u001b[38;5;250m \u001b[39m\u001b[38;5;28;01mimport\u001b[39;00m RobinConfiguration\n",
      "\u001b[36mFile \u001b[39m\u001b[32mc:\\Users\\Wilf\\robin\\robin\\__init__.py:1\u001b[39m\n\u001b[32m----> \u001b[39m\u001b[32m1\u001b[39m \u001b[38;5;28;01mfrom\u001b[39;00m\u001b[38;5;250m \u001b[39m\u001b[34;01m.\u001b[39;00m\u001b[34;01manalyses\u001b[39;00m\u001b[38;5;250m \u001b[39m\u001b[38;5;28;01mimport\u001b[39;00m data_analysis\n\u001b[32m      2\u001b[39m \u001b[38;5;28;01mfrom\u001b[39;00m\u001b[38;5;250m \u001b[39m\u001b[34;01m.\u001b[39;00m\u001b[34;01massays\u001b[39;00m\u001b[38;5;250m \u001b[39m\u001b[38;5;28;01mimport\u001b[39;00m experimental_assay\n\u001b[32m      3\u001b[39m \u001b[38;5;28;01mfrom\u001b[39;00m\u001b[38;5;250m \u001b[39m\u001b[34;01m.\u001b[39;00m\u001b[34;01mcandidates\u001b[39;00m\u001b[38;5;250m \u001b[39m\u001b[38;5;28;01mimport\u001b[39;00m therapeutic_candidates\n",
      "\u001b[36mFile \u001b[39m\u001b[32mc:\\Users\\Wilf\\robin\\robin\\analyses.py:5\u001b[39m\n\u001b[32m      2\u001b[39m \u001b[38;5;28;01mfrom\u001b[39;00m\u001b[38;5;250m \u001b[39m\u001b[34;01mpathlib\u001b[39;00m\u001b[38;5;250m \u001b[39m\u001b[38;5;28;01mimport\u001b[39;00m Path\n\u001b[32m      3\u001b[39m \u001b[38;5;28;01mfrom\u001b[39;00m\u001b[38;5;250m \u001b[39m\u001b[34;01mtyping\u001b[39;00m\u001b[38;5;250m \u001b[39m\u001b[38;5;28;01mimport\u001b[39;00m cast\n\u001b[32m----> \u001b[39m\u001b[32m5\u001b[39m \u001b[38;5;28;01mfrom\u001b[39;00m\u001b[38;5;250m \u001b[39m\u001b[34;01maviary\u001b[39;00m\u001b[34;01m.\u001b[39;00m\u001b[34;01mcore\u001b[39;00m\u001b[38;5;250m \u001b[39m\u001b[38;5;28;01mimport\u001b[39;00m Message\n\u001b[32m      7\u001b[39m \u001b[38;5;28;01mfrom\u001b[39;00m\u001b[38;5;250m \u001b[39m\u001b[34;01m.\u001b[39;00m\u001b[34;01mconfiguration\u001b[39;00m\u001b[38;5;250m \u001b[39m\u001b[38;5;28;01mimport\u001b[39;00m RobinConfiguration\n\u001b[32m      8\u001b[39m \u001b[38;5;28;01mfrom\u001b[39;00m\u001b[38;5;250m \u001b[39m\u001b[34;01m.\u001b[39;00m\u001b[34;01mmultitrajectory_runner\u001b[39;00m\u001b[38;5;250m \u001b[39m\u001b[38;5;28;01mimport\u001b[39;00m Step, StepConfig\n",
      "\u001b[36mFile \u001b[39m\u001b[32mc:\\Users\\Wilf\\robin\\.venv\\Lib\\site-packages\\aviary\\core.py:1\u001b[39m\n\u001b[32m----> \u001b[39m\u001b[32m1\u001b[39m \u001b[38;5;28;01mfrom\u001b[39;00m\u001b[38;5;250m \u001b[39m\u001b[34;01maviary\u001b[39;00m\u001b[34;01m.\u001b[39;00m\u001b[34;01mdataset_server\u001b[39;00m\u001b[38;5;250m \u001b[39m\u001b[38;5;28;01mimport\u001b[39;00m TaskDatasetServer\n\u001b[32m      2\u001b[39m \u001b[38;5;28;01mfrom\u001b[39;00m\u001b[38;5;250m \u001b[39m\u001b[34;01maviary\u001b[39;00m\u001b[34;01m.\u001b[39;00m\u001b[34;01menv\u001b[39;00m\u001b[38;5;250m \u001b[39m\u001b[38;5;28;01mimport\u001b[39;00m (\n\u001b[32m      3\u001b[39m     TASK_DATASET_REGISTRY,\n\u001b[32m      4\u001b[39m     DummyEnv,\n\u001b[32m   (...)\u001b[39m\u001b[32m     10\u001b[39m     TaskDataset,\n\u001b[32m     11\u001b[39m )\n\u001b[32m     12\u001b[39m \u001b[38;5;28;01mfrom\u001b[39;00m\u001b[38;5;250m \u001b[39m\u001b[34;01maviary\u001b[39;00m\u001b[34;01m.\u001b[39;00m\u001b[34;01menv_client\u001b[39;00m\u001b[38;5;250m \u001b[39m\u001b[38;5;28;01mimport\u001b[39;00m (\n\u001b[32m     13\u001b[39m     EnvironmentClient,\n\u001b[32m     14\u001b[39m     TaskDatasetClient,\n\u001b[32m     15\u001b[39m     TaskEnvClientState,\n\u001b[32m     16\u001b[39m     TaskEnvironmentClient,\n\u001b[32m     17\u001b[39m )\n",
      "\u001b[36mFile \u001b[39m\u001b[32mc:\\Users\\Wilf\\robin\\.venv\\Lib\\site-packages\\aviary\\dataset_server.py:13\u001b[39m\n\u001b[32m      9\u001b[39m \u001b[38;5;28;01mfrom\u001b[39;00m\u001b[38;5;250m \u001b[39m\u001b[34;01mtyping\u001b[39;00m\u001b[38;5;250m \u001b[39m\u001b[38;5;28;01mimport\u001b[39;00m Generic, TypeVar\n\u001b[32m     11\u001b[39m \u001b[38;5;28;01mfrom\u001b[39;00m\u001b[38;5;250m \u001b[39m\u001b[34;01mpydantic\u001b[39;00m\u001b[38;5;250m \u001b[39m\u001b[38;5;28;01mimport\u001b[39;00m BaseModel, Field\n\u001b[32m---> \u001b[39m\u001b[32m13\u001b[39m \u001b[38;5;28;01mfrom\u001b[39;00m\u001b[38;5;250m \u001b[39m\u001b[34;01maviary\u001b[39;00m\u001b[34;01m.\u001b[39;00m\u001b[34;01menv\u001b[39;00m\u001b[38;5;250m \u001b[39m\u001b[38;5;28;01mimport\u001b[39;00m Environment, TaskDataset\n\u001b[32m     14\u001b[39m \u001b[38;5;28;01mfrom\u001b[39;00m\u001b[38;5;250m \u001b[39m\u001b[34;01maviary\u001b[39;00m\u001b[34;01m.\u001b[39;00m\u001b[34;01mtools\u001b[39;00m\u001b[38;5;250m \u001b[39m\u001b[38;5;28;01mimport\u001b[39;00m MessagesAdapter, ToolRequestMessage, ToolsAdapter\n\u001b[32m     16\u001b[39m \u001b[38;5;28;01mtry\u001b[39;00m:\n",
      "\u001b[36mFile \u001b[39m\u001b[32mc:\\Users\\Wilf\\robin\\.venv\\Lib\\site-packages\\aviary\\env.py:24\u001b[39m\n\u001b[32m     12\u001b[39m \u001b[38;5;28;01mfrom\u001b[39;00m\u001b[38;5;250m \u001b[39m\u001b[34;01mtyping\u001b[39;00m\u001b[38;5;250m \u001b[39m\u001b[38;5;28;01mimport\u001b[39;00m Annotated, Generic, Self, TypeAlias, TypeVar, cast\n\u001b[32m     14\u001b[39m \u001b[38;5;28;01mfrom\u001b[39;00m\u001b[38;5;250m \u001b[39m\u001b[34;01mpydantic\u001b[39;00m\u001b[38;5;250m \u001b[39m\u001b[38;5;28;01mimport\u001b[39;00m (\n\u001b[32m     15\u001b[39m     BaseModel,\n\u001b[32m     16\u001b[39m     ConfigDict,\n\u001b[32m   (...)\u001b[39m\u001b[32m     21\u001b[39m     field_validator,\n\u001b[32m     22\u001b[39m )\n\u001b[32m---> \u001b[39m\u001b[32m24\u001b[39m \u001b[38;5;28;01mfrom\u001b[39;00m\u001b[38;5;250m \u001b[39m\u001b[34;01maviary\u001b[39;00m\u001b[34;01m.\u001b[39;00m\u001b[34;01mmessage\u001b[39;00m\u001b[38;5;250m \u001b[39m\u001b[38;5;28;01mimport\u001b[39;00m Message\n\u001b[32m     25\u001b[39m \u001b[38;5;28;01mfrom\u001b[39;00m\u001b[38;5;250m \u001b[39m\u001b[34;01maviary\u001b[39;00m\u001b[34;01m.\u001b[39;00m\u001b[34;01mtools\u001b[39;00m\u001b[38;5;250m \u001b[39m\u001b[38;5;28;01mimport\u001b[39;00m (\n\u001b[32m     26\u001b[39m     Messages,\n\u001b[32m     27\u001b[39m     Tool,\n\u001b[32m   (...)\u001b[39m\u001b[32m     30\u001b[39m     ToolResponseMessage,\n\u001b[32m     31\u001b[39m )\n\u001b[32m     32\u001b[39m \u001b[38;5;28;01mfrom\u001b[39;00m\u001b[38;5;250m \u001b[39m\u001b[34;01maviary\u001b[39;00m\u001b[34;01m.\u001b[39;00m\u001b[34;01mutils\u001b[39;00m\u001b[38;5;250m \u001b[39m\u001b[38;5;28;01mimport\u001b[39;00m format_exc, is_coroutine_callable\n",
      "\u001b[36mFile \u001b[39m\u001b[32mc:\\Users\\Wilf\\robin\\.venv\\Lib\\site-packages\\aviary\\message.py:9\u001b[39m\n\u001b[32m      5\u001b[39m \u001b[38;5;28;01mfrom\u001b[39;00m\u001b[38;5;250m \u001b[39m\u001b[34;01mtyping\u001b[39;00m\u001b[38;5;250m \u001b[39m\u001b[38;5;28;01mimport\u001b[39;00m TYPE_CHECKING, ClassVar, Self\n\u001b[32m      7\u001b[39m \u001b[38;5;28;01mfrom\u001b[39;00m\u001b[38;5;250m \u001b[39m\u001b[34;01mpydantic\u001b[39;00m\u001b[38;5;250m \u001b[39m\u001b[38;5;28;01mimport\u001b[39;00m BaseModel, Field, field_validator, model_validator\n\u001b[32m----> \u001b[39m\u001b[32m9\u001b[39m \u001b[38;5;28;01mfrom\u001b[39;00m\u001b[38;5;250m \u001b[39m\u001b[34;01maviary\u001b[39;00m\u001b[34;01m.\u001b[39;00m\u001b[34;01mutils\u001b[39;00m\u001b[38;5;250m \u001b[39m\u001b[38;5;28;01mimport\u001b[39;00m encode_image_to_base64, validate_base64_image\n\u001b[32m     11\u001b[39m \u001b[38;5;28;01mif\u001b[39;00m TYPE_CHECKING:\n\u001b[32m     12\u001b[39m     \u001b[38;5;28;01mfrom\u001b[39;00m\u001b[38;5;250m \u001b[39m\u001b[34;01mlogging\u001b[39;00m\u001b[38;5;250m \u001b[39m\u001b[38;5;28;01mimport\u001b[39;00m LogRecord\n",
      "\u001b[36mFile \u001b[39m\u001b[32mc:\\Users\\Wilf\\robin\\.venv\\Lib\\site-packages\\aviary\\utils.py:17\u001b[39m\n\u001b[32m     14\u001b[39m \u001b[38;5;28;01mfrom\u001b[39;00m\u001b[38;5;250m \u001b[39m\u001b[34;01mpydantic_core\u001b[39;00m\u001b[38;5;250m \u001b[39m\u001b[38;5;28;01mimport\u001b[39;00m core_schema \u001b[38;5;28;01mas\u001b[39;00m cs\n\u001b[32m     16\u001b[39m \u001b[38;5;28;01mtry\u001b[39;00m:\n\u001b[32m---> \u001b[39m\u001b[32m17\u001b[39m     \u001b[38;5;28;01mfrom\u001b[39;00m\u001b[38;5;250m \u001b[39m\u001b[34;01mlitellm\u001b[39;00m\u001b[38;5;250m \u001b[39m\u001b[38;5;28;01mimport\u001b[39;00m acompletion\n\u001b[32m     18\u001b[39m \u001b[38;5;28;01mexcept\u001b[39;00m \u001b[38;5;167;01mImportError\u001b[39;00m:\n\u001b[32m     19\u001b[39m     acompletion = \u001b[38;5;28;01mNone\u001b[39;00m\n",
      "\u001b[36mFile \u001b[39m\u001b[32mc:\\Users\\Wilf\\robin\\.venv\\Lib\\site-packages\\litellm\\__init__.py:762\u001b[39m\n\u001b[32m    759\u001b[39m openai_image_generation_models = [\u001b[33m\"\u001b[39m\u001b[33mdall-e-2\u001b[39m\u001b[33m\"\u001b[39m, \u001b[33m\"\u001b[39m\u001b[33mdall-e-3\u001b[39m\u001b[33m\"\u001b[39m]\n\u001b[32m    761\u001b[39m \u001b[38;5;28;01mfrom\u001b[39;00m\u001b[38;5;250m \u001b[39m\u001b[34;01m.\u001b[39;00m\u001b[34;01mtimeout\u001b[39;00m\u001b[38;5;250m \u001b[39m\u001b[38;5;28;01mimport\u001b[39;00m timeout\n\u001b[32m--> \u001b[39m\u001b[32m762\u001b[39m \u001b[38;5;28;01mfrom\u001b[39;00m\u001b[38;5;250m \u001b[39m\u001b[34;01m.\u001b[39;00m\u001b[34;01mcost_calculator\u001b[39;00m\u001b[38;5;250m \u001b[39m\u001b[38;5;28;01mimport\u001b[39;00m completion_cost\n\u001b[32m    763\u001b[39m \u001b[38;5;28;01mfrom\u001b[39;00m\u001b[38;5;250m \u001b[39m\u001b[34;01mlitellm\u001b[39;00m\u001b[34;01m.\u001b[39;00m\u001b[34;01mlitellm_core_utils\u001b[39;00m\u001b[34;01m.\u001b[39;00m\u001b[34;01mlitellm_logging\u001b[39;00m\u001b[38;5;250m \u001b[39m\u001b[38;5;28;01mimport\u001b[39;00m Logging, modify_integration\n\u001b[32m    764\u001b[39m \u001b[38;5;28;01mfrom\u001b[39;00m\u001b[38;5;250m \u001b[39m\u001b[34;01mlitellm\u001b[39;00m\u001b[34;01m.\u001b[39;00m\u001b[34;01mlitellm_core_utils\u001b[39;00m\u001b[34;01m.\u001b[39;00m\u001b[34;01mget_llm_provider_logic\u001b[39;00m\u001b[38;5;250m \u001b[39m\u001b[38;5;28;01mimport\u001b[39;00m get_llm_provider\n",
      "\u001b[36mFile \u001b[39m\u001b[32mc:\\Users\\Wilf\\robin\\.venv\\Lib\\site-packages\\litellm\\cost_calculator.py:19\u001b[39m\n\u001b[32m     12\u001b[39m \u001b[38;5;28;01mfrom\u001b[39;00m\u001b[38;5;250m \u001b[39m\u001b[34;01mlitellm\u001b[39;00m\u001b[34;01m.\u001b[39;00m\u001b[34;01mconstants\u001b[39;00m\u001b[38;5;250m \u001b[39m\u001b[38;5;28;01mimport\u001b[39;00m (\n\u001b[32m     13\u001b[39m     DEFAULT_MAX_LRU_CACHE_SIZE,\n\u001b[32m     14\u001b[39m     DEFAULT_REPLICATE_GPU_PRICE_PER_SECOND,\n\u001b[32m     15\u001b[39m )\n\u001b[32m     16\u001b[39m \u001b[38;5;28;01mfrom\u001b[39;00m\u001b[38;5;250m \u001b[39m\u001b[34;01mlitellm\u001b[39;00m\u001b[34;01m.\u001b[39;00m\u001b[34;01mlitellm_core_utils\u001b[39;00m\u001b[34;01m.\u001b[39;00m\u001b[34;01mllm_cost_calc\u001b[39;00m\u001b[34;01m.\u001b[39;00m\u001b[34;01mtool_call_cost_tracking\u001b[39;00m\u001b[38;5;250m \u001b[39m\u001b[38;5;28;01mimport\u001b[39;00m (\n\u001b[32m     17\u001b[39m     StandardBuiltInToolCostTracking,\n\u001b[32m     18\u001b[39m )\n\u001b[32m---> \u001b[39m\u001b[32m19\u001b[39m \u001b[38;5;28;01mfrom\u001b[39;00m\u001b[38;5;250m \u001b[39m\u001b[34;01mlitellm\u001b[39;00m\u001b[34;01m.\u001b[39;00m\u001b[34;01mlitellm_core_utils\u001b[39;00m\u001b[34;01m.\u001b[39;00m\u001b[34;01mllm_cost_calc\u001b[39;00m\u001b[34;01m.\u001b[39;00m\u001b[34;01mutils\u001b[39;00m\u001b[38;5;250m \u001b[39m\u001b[38;5;28;01mimport\u001b[39;00m (\n\u001b[32m     20\u001b[39m     _generic_cost_per_character,\n\u001b[32m     21\u001b[39m     generic_cost_per_token,\n\u001b[32m     22\u001b[39m )\n\u001b[32m     23\u001b[39m \u001b[38;5;28;01mfrom\u001b[39;00m\u001b[38;5;250m \u001b[39m\u001b[34;01mlitellm\u001b[39;00m\u001b[34;01m.\u001b[39;00m\u001b[34;01mllms\u001b[39;00m\u001b[34;01m.\u001b[39;00m\u001b[34;01manthropic\u001b[39;00m\u001b[34;01m.\u001b[39;00m\u001b[34;01mcost_calculation\u001b[39;00m\u001b[38;5;250m \u001b[39m\u001b[38;5;28;01mimport\u001b[39;00m (\n\u001b[32m     24\u001b[39m     cost_per_token \u001b[38;5;28;01mas\u001b[39;00m anthropic_cost_per_token,\n\u001b[32m     25\u001b[39m )\n\u001b[32m     26\u001b[39m \u001b[38;5;28;01mfrom\u001b[39;00m\u001b[38;5;250m \u001b[39m\u001b[34;01mlitellm\u001b[39;00m\u001b[34;01m.\u001b[39;00m\u001b[34;01mllms\u001b[39;00m\u001b[34;01m.\u001b[39;00m\u001b[34;01mazure\u001b[39;00m\u001b[34;01m.\u001b[39;00m\u001b[34;01mcost_calculation\u001b[39;00m\u001b[38;5;250m \u001b[39m\u001b[38;5;28;01mimport\u001b[39;00m (\n\u001b[32m     27\u001b[39m     cost_per_token \u001b[38;5;28;01mas\u001b[39;00m azure_openai_cost_per_token,\n\u001b[32m     28\u001b[39m )\n",
      "\u001b[36mFile \u001b[39m\u001b[32mc:\\Users\\Wilf\\robin\\.venv\\Lib\\site-packages\\litellm\\litellm_core_utils\\llm_cost_calc\\utils.py:9\u001b[39m\n\u001b[32m      7\u001b[39m \u001b[38;5;28;01mfrom\u001b[39;00m\u001b[38;5;250m \u001b[39m\u001b[34;01mlitellm\u001b[39;00m\u001b[38;5;250m \u001b[39m\u001b[38;5;28;01mimport\u001b[39;00m verbose_logger\n\u001b[32m      8\u001b[39m \u001b[38;5;28;01mfrom\u001b[39;00m\u001b[38;5;250m \u001b[39m\u001b[34;01mlitellm\u001b[39;00m\u001b[34;01m.\u001b[39;00m\u001b[34;01mtypes\u001b[39;00m\u001b[34;01m.\u001b[39;00m\u001b[34;01mutils\u001b[39;00m\u001b[38;5;250m \u001b[39m\u001b[38;5;28;01mimport\u001b[39;00m ModelInfo, Usage\n\u001b[32m----> \u001b[39m\u001b[32m9\u001b[39m \u001b[38;5;28;01mfrom\u001b[39;00m\u001b[38;5;250m \u001b[39m\u001b[34;01mlitellm\u001b[39;00m\u001b[34;01m.\u001b[39;00m\u001b[34;01mutils\u001b[39;00m\u001b[38;5;250m \u001b[39m\u001b[38;5;28;01mimport\u001b[39;00m get_model_info\n\u001b[32m     12\u001b[39m \u001b[38;5;28;01mdef\u001b[39;00m\u001b[38;5;250m \u001b[39m\u001b[34m_is_above_128k\u001b[39m(tokens: \u001b[38;5;28mfloat\u001b[39m) -> \u001b[38;5;28mbool\u001b[39m:\n\u001b[32m     13\u001b[39m     \u001b[38;5;28;01mif\u001b[39;00m tokens > \u001b[32m128000\u001b[39m:\n",
      "\u001b[36mFile \u001b[39m\u001b[32mc:\\Users\\Wilf\\robin\\.venv\\Lib\\site-packages\\litellm\\utils.py:188\u001b[39m\n\u001b[32m    183\u001b[39m \u001b[38;5;28;01mtry\u001b[39;00m:\n\u001b[32m    184\u001b[39m     \u001b[38;5;66;03m# Python 3.9+\u001b[39;00m\n\u001b[32m    185\u001b[39m     \u001b[38;5;28;01mwith\u001b[39;00m resources.files(\u001b[33m\"\u001b[39m\u001b[33mlitellm.litellm_core_utils.tokenizers\u001b[39m\u001b[33m\"\u001b[39m).joinpath(\n\u001b[32m    186\u001b[39m         \u001b[33m\"\u001b[39m\u001b[33manthropic_tokenizer.json\u001b[39m\u001b[33m\"\u001b[39m\n\u001b[32m    187\u001b[39m     ).open(\u001b[33m\"\u001b[39m\u001b[33mr\u001b[39m\u001b[33m\"\u001b[39m) \u001b[38;5;28;01mas\u001b[39;00m f:\n\u001b[32m--> \u001b[39m\u001b[32m188\u001b[39m         json_data = \u001b[43mjson\u001b[49m\u001b[43m.\u001b[49m\u001b[43mload\u001b[49m\u001b[43m(\u001b[49m\u001b[43mf\u001b[49m\u001b[43m)\u001b[49m\n\u001b[32m    189\u001b[39m \u001b[38;5;28;01mexcept\u001b[39;00m (\u001b[38;5;167;01mImportError\u001b[39;00m, \u001b[38;5;167;01mAttributeError\u001b[39;00m, \u001b[38;5;167;01mTypeError\u001b[39;00m):\n\u001b[32m    190\u001b[39m     \u001b[38;5;28;01mwith\u001b[39;00m resources.open_text(\n\u001b[32m    191\u001b[39m         \u001b[33m\"\u001b[39m\u001b[33mlitellm.litellm_core_utils.tokenizers\u001b[39m\u001b[33m\"\u001b[39m, \u001b[33m\"\u001b[39m\u001b[33manthropic_tokenizer.json\u001b[39m\u001b[33m\"\u001b[39m\n\u001b[32m    192\u001b[39m     ) \u001b[38;5;28;01mas\u001b[39;00m f:\n",
      "\u001b[36mFile \u001b[39m\u001b[32mC:\\Program Files\\WindowsApps\\PythonSoftwareFoundation.Python.3.12_3.12.2800.0_x64__qbz5n2kfra8p0\\Lib\\json\\__init__.py:293\u001b[39m, in \u001b[36mload\u001b[39m\u001b[34m(fp, cls, object_hook, parse_float, parse_int, parse_constant, object_pairs_hook, **kw)\u001b[39m\n\u001b[32m    274\u001b[39m \u001b[38;5;28;01mdef\u001b[39;00m\u001b[38;5;250m \u001b[39m\u001b[34mload\u001b[39m(fp, *, \u001b[38;5;28mcls\u001b[39m=\u001b[38;5;28;01mNone\u001b[39;00m, object_hook=\u001b[38;5;28;01mNone\u001b[39;00m, parse_float=\u001b[38;5;28;01mNone\u001b[39;00m,\n\u001b[32m    275\u001b[39m         parse_int=\u001b[38;5;28;01mNone\u001b[39;00m, parse_constant=\u001b[38;5;28;01mNone\u001b[39;00m, object_pairs_hook=\u001b[38;5;28;01mNone\u001b[39;00m, **kw):\n\u001b[32m    276\u001b[39m \u001b[38;5;250m    \u001b[39m\u001b[33;03m\"\"\"Deserialize ``fp`` (a ``.read()``-supporting file-like object containing\u001b[39;00m\n\u001b[32m    277\u001b[39m \u001b[33;03m    a JSON document) to a Python object.\u001b[39;00m\n\u001b[32m    278\u001b[39m \n\u001b[32m   (...)\u001b[39m\u001b[32m    291\u001b[39m \u001b[33;03m    kwarg; otherwise ``JSONDecoder`` is used.\u001b[39;00m\n\u001b[32m    292\u001b[39m \u001b[33;03m    \"\"\"\u001b[39;00m\n\u001b[32m--> \u001b[39m\u001b[32m293\u001b[39m     \u001b[38;5;28;01mreturn\u001b[39;00m loads(\u001b[43mfp\u001b[49m\u001b[43m.\u001b[49m\u001b[43mread\u001b[49m\u001b[43m(\u001b[49m\u001b[43m)\u001b[49m,\n\u001b[32m    294\u001b[39m         \u001b[38;5;28mcls\u001b[39m=\u001b[38;5;28mcls\u001b[39m, object_hook=object_hook,\n\u001b[32m    295\u001b[39m         parse_float=parse_float, parse_int=parse_int,\n\u001b[32m    296\u001b[39m         parse_constant=parse_constant, object_pairs_hook=object_pairs_hook, **kw)\n",
      "\u001b[36mFile \u001b[39m\u001b[32mC:\\Program Files\\WindowsApps\\PythonSoftwareFoundation.Python.3.12_3.12.2800.0_x64__qbz5n2kfra8p0\\Lib\\encodings\\cp1252.py:23\u001b[39m, in \u001b[36mIncrementalDecoder.decode\u001b[39m\u001b[34m(self, input, final)\u001b[39m\n\u001b[32m     22\u001b[39m \u001b[38;5;28;01mdef\u001b[39;00m\u001b[38;5;250m \u001b[39m\u001b[34mdecode\u001b[39m(\u001b[38;5;28mself\u001b[39m, \u001b[38;5;28minput\u001b[39m, final=\u001b[38;5;28;01mFalse\u001b[39;00m):\n\u001b[32m---> \u001b[39m\u001b[32m23\u001b[39m     \u001b[38;5;28;01mreturn\u001b[39;00m \u001b[43mcodecs\u001b[49m\u001b[43m.\u001b[49m\u001b[43mcharmap_decode\u001b[49m\u001b[43m(\u001b[49m\u001b[38;5;28;43minput\u001b[39;49m\u001b[43m,\u001b[49m\u001b[38;5;28;43mself\u001b[39;49m\u001b[43m.\u001b[49m\u001b[43merrors\u001b[49m\u001b[43m,\u001b[49m\u001b[43mdecoding_table\u001b[49m\u001b[43m)\u001b[49m[\u001b[32m0\u001b[39m]\n",
      "\u001b[31mUnicodeDecodeError\u001b[39m: 'charmap' codec can't decode byte 0x81 in position 1980: character maps to <undefined>"
     ]
    }
   ],
   "source": [
    "%env PYTHONUTF8=1\n",
    "import logging\n",
    "from robin.assays import experimental_assay\n",
    "from robin.candidates import therapeutic_candidates\n",
    "from robin.configuration import RobinConfiguration"
   ]
  },
  {
   "cell_type": "markdown",
   "metadata": {},
   "source": [
    "## Robin Set Up"
   ]
  },
  {
   "cell_type": "code",
   "execution_count": null,
   "metadata": {},
   "outputs": [],
   "source": [
    "config = RobinConfiguration(disease_name=\"dry age-related macular degeneration\")\n",
    "\n",
    "logger = logging.getLogger(\"robin\")\n",
    "logger.setLevel(logging.INFO)"
   ]
  },
  {
   "cell_type": "markdown",
   "metadata": {},
   "source": [
    "# Initial therapeutics hypothesis generation"
   ]
  },
  {
   "cell_type": "markdown",
   "metadata": {},
   "source": [
    "### Experimental assay generation"
   ]
  },
  {
   "cell_type": "code",
   "execution_count": null,
   "metadata": {},
   "outputs": [
    {
     "name": "stdout",
     "output_type": "stream",
     "text": [
      "2025-05-29 12:11:19,217 - robin.assays - INFO - Starting selection of a relevant experimental assay.\n",
      "2025-05-29 12:11:19,218 - robin.assays - INFO - ————————————————————————————————————————————————————\n",
      "2025-05-29 12:11:19,219 - robin.assays - INFO - \n",
      "Step 1: Formulating relevant queries for literature search...\n",
      "2025-05-29 12:11:38,610 - robin.assays - INFO - Generated Queries:\n",
      "2025-05-29 12:11:38,611 - robin.assays - INFO - 1. What are the major molecular mechanisms underlying retinal pigment epithelium dysfunction and drusen formation in dry age-related macular degeneration, including oxidative stress pathways, chronic complement activation, lipid and cholesterol dysregulation, mitochondrial impairment, autophagy deficiency, inflammasome signaling, and how these processes interplay to drive geographic atrophy in patients and animal models? \n",
      "2025-05-29 12:11:38,611 - robin.assays - INFO - 2.  Which primary human retinal pigment epithelium cell cultures, immortalized lines (e.g., ARPE-19), iPSC-derived RPE monolayers, co-culture systems with photoreceptors, and three-dimensional retinal organoids have been characterized to model features of dry AMD pathology in vitro, and what protocols are used to induce hallmark phenotypes such as drusen-like deposit accumulation, oxidative injury, and complement-mediated damage? \n",
      "2025-05-29 12:11:38,611 - robin.assays - INFO - 3.  What sensitive and scalable functional assays and biochemical readouts are available for evaluating therapeutic modulation of dry AMD phenotypes in RPE cell culture models, including high-content imaging for drusen precursor and lipofuscin accumulation, transepithelial resistance measurements for barrier integrity, quantification of reactive oxygen species, autophagic flux assays, complement activation fragments, inflammasome-associated cytokines, mitochondrial respiration, and phagocytosis of photoreceptor outer segments?\n",
      "2025-05-29 12:11:38,611 - robin.assays - INFO - \n",
      "Step 2: Conducting literature search with FutureHouse platform...\n",
      "2025-05-29 12:11:39,140 - robin.utils - INFO - Starting literature search for 3 queries using job-futurehouse-paperqa2.\n",
      "2025-05-29 12:24:42,377 - robin.utils - INFO - Finished processing 3 tasks.\n",
      "Successfully wrote: query_1_what.txt to: robin_output/dry_age-related_macular_degeneration_2025-05-29_12-11/experimental_assay_literature_reviews/query_1_what.txt\n",
      "Successfully wrote: query_2_which.txt to: robin_output/dry_age-related_macular_degeneration_2025-05-29_12-11/experimental_assay_literature_reviews/query_2_which.txt\n",
      "Successfully wrote: query_3_what.txt to: robin_output/dry_age-related_macular_degeneration_2025-05-29_12-11/experimental_assay_literature_reviews/query_3_what.txt\n",
      "2025-05-29 12:24:42,388 - robin.assays - INFO - \n",
      "Step 3: Generating ideas for relevant experimental assays...\n",
      "2025-05-29 12:24:58,451 - robin.assays - INFO - Strategy: Autophagy Enhancement<|>Reasoning: RPE autophagy deficiency contributes to accumulation of...\n",
      "2025-05-29 12:24:58,453 - robin.assays - INFO - Strategy: Complement Pathway Modulation<|>Reasoning: Chronic complement activation drives RPE injury...\n",
      "2025-05-29 12:24:58,453 - robin.assays - INFO - Strategy: Mitochondrial Protection<|>Reasoning: Mitochondrial dysfunction amplifies ROS production a...\n",
      "2025-05-29 12:24:58,461 - robin.assays - INFO - Successfully exported to robin_output/dry_age-related_macular_degeneration_2025-05-29_12-11/experimental_assay_summary.txt\n",
      "2025-05-29 12:24:58,462 - robin.assays - INFO - \n",
      "Step 4: Detailed investigation and evaluation for each assay...\n",
      "2025-05-29 12:24:59,050 - robin.utils - INFO - Starting literature search for 3 queries using job-futurehouse-paperqa2.\n",
      "2025-05-29 12:35:38,034 - robin.utils - INFO - Finished processing 3 tasks.\n",
      "Successfully wrote: assay_hypothesis_1_autophagy.txt to: robin_output/dry_age-related_macular_degeneration_2025-05-29_12-11/experimental_assay_detailed_hypotheses/assay_hypothesis_1_autophagy.txt\n",
      "Successfully wrote: assay_hypothesis_2_complement.txt to: robin_output/dry_age-related_macular_degeneration_2025-05-29_12-11/experimental_assay_detailed_hypotheses/assay_hypothesis_2_complement.txt\n",
      "Successfully wrote: assay_hypothesis_3_mitochondrial.txt to: robin_output/dry_age-related_macular_degeneration_2025-05-29_12-11/experimental_assay_detailed_hypotheses/assay_hypothesis_3_mitochondrial.txt\n",
      "2025-05-29 12:35:38,041 - robin.assays - INFO - \n",
      "Step 5: Selecting the top experimental assay...\n",
      "2025-05-29 12:35:38,042 - robin.utils - INFO - Starting comparisons for 3 pairs with max concurrency 100...\n"
     ]
    },
    {
     "name": "stderr",
     "output_type": "stream",
     "text": [
      "Comparing Hypotheses: 100%|██████████| 3/3 [00:11<00:00,  3.97s/it]"
     ]
    },
    {
     "name": "stdout",
     "output_type": "stream",
     "text": [
      "2025-05-29 12:35:49,969 - robin.utils - INFO - \n",
      "Finished processing pairs.\n",
      "2025-05-29 12:35:49,970 - robin.utils - INFO -  - Successful comparisons: 3\n",
      "2025-05-29 12:35:49,970 - robin.utils - INFO -  - Errors encountered: 0\n",
      "2025-05-29 12:35:49,976 - robin.utils - INFO - Successfully saved 3 results to robin_output/dry_age-related_macular_degeneration_2025-05-29_12-11/experimental_assay_ranking_results.csv\n",
      "2025-05-29 12:35:49,998 - robin.assays - INFO - Experimental Assay Selected: Complement Pathway Modulation\n"
     ]
    },
    {
     "name": "stderr",
     "output_type": "stream",
     "text": [
      "\n"
     ]
    },
    {
     "name": "stdout",
     "output_type": "stream",
     "text": [
      "2025-05-29 12:35:54,776 - robin.assays - INFO - Candidate Generation Goal: Screen a diverse chemical library with the Complement Pathway Modulation assay to identify novel small-molecule inhibitors of complement activation in retinal pigment epithelial cells as potential therapeutics for dry age-related macular degeneration.\n"
     ]
    }
   ],
   "source": [
    "candidate_generation_goal = await experimental_assay(configuration=config)"
   ]
  },
  {
   "cell_type": "markdown",
   "metadata": {},
   "source": [
    "### Therapeutic candidate generation"
   ]
  },
  {
   "cell_type": "code",
   "execution_count": null,
   "metadata": {},
   "outputs": [
    {
     "name": "stdout",
     "output_type": "stream",
     "text": [
      "2025-05-29 12:35:54,787 - robin.candidates - INFO - Starting generation of 5 therapeutic candidates.\n",
      "2025-05-29 12:35:54,789 - robin.candidates - INFO - ———————————————————————————————————————————————————————————————\n",
      "2025-05-29 12:35:54,790 - robin.candidates - INFO - \n",
      "Step 1: Formulating relevant queries for literature search...\n",
      "2025-05-29 12:36:19,250 - robin.candidates - INFO - Generated Queries:\n",
      "2025-05-29 12:36:19,251 - robin.candidates - INFO - 1. dry age-related macular degeneration AND complement pathway modulation AND high-throughput screening AND diverse chemical library AND retinal pigment epithelial cells AND small molecule inhibitors AND target engagement assays AND CFH AND C3 AND drusen AND efficacy AND mechanism confirmation AND cell viability assays AND C5 AND CFB AND C5a AND iC3b\n",
      "2025-05-29 12:36:19,252 - robin.candidates - INFO - 2. \n",
      "\n",
      "small molecule complement inhibitors AND ocular pharmacokinetics AND bioavailability AND safety profile AND preclinical animal models AND retinal delivery AND intraocular administration AND dry age-related macular degeneration AND human clinical data AND ADME AND dose-response relationships AND off-target effects AND therapeutic window\n",
      "2025-05-29 12:36:19,252 - robin.candidates - INFO - 3. \n",
      "\n",
      "drug repurposing OR diverse chemical library screening AND complement activation assay AND retinal pigment epithelial cell models AND high-content imaging AND target validation AND mechanistic specificity AND dry AMD AND preclinical efficacy AND hit-to-lead optimization AND assay development AND structure-activity relationships\n",
      "2025-05-29 12:36:19,252 - robin.candidates - INFO - 4. \n",
      "\n",
      "dry age-related macular degeneration AND alternative complement pathway activation AND retinal pigment epithelial cell damage AND inflammation AND drusen formation AND genetic risk factors AND CFH polymorphisms AND C3 activation fragments AND membrane attack complex deposition AND local complement dysregulation\n",
      "2025-05-29 12:36:19,253 - robin.candidates - INFO - 5. \n",
      "\n",
      "retinal pigment epithelial cells AND complement activation AND mitochondrial dysfunction AND oxidative stress AND inflammasome activation AND dry age-related macular degeneration AND cell death pathways AND autophagy impairment AND lysosomal dysfunction AND inflammatory cytokine release AND RPE barrier integrity\n",
      "2025-05-29 12:36:19,253 - robin.candidates - INFO - 6. \n",
      "\n",
      "genetic association studies OR functional genomics AND complement factor H AND C3 AND CFB AND dry age-related macular degeneration AND iPSC-derived RPE models AND patient-derived cells AND target validation AND CRISPR/Cas9 knockout AND RNAi screening AND transcriptomic profiling\n",
      "2025-05-29 12:36:19,254 - robin.candidates - INFO - \n",
      "Step 2: Conducting literature search with FutureHouse platform...\n",
      "2025-05-29 12:36:19,850 - robin.utils - INFO - Starting literature search for 6 queries using job-futurehouse-paperqa2.\n",
      "2025-05-29 12:41:18,084 - robin.utils - INFO - Finished processing 6 tasks.\n",
      "Successfully wrote: query_1_dry.txt to: robin_output/dry_age-related_macular_degeneration_2025-05-29_12-11/therapeutic_candidate_literature_reviews/query_1_dry.txt\n",
      "Successfully wrote: query_2_small.txt to: robin_output/dry_age-related_macular_degeneration_2025-05-29_12-11/therapeutic_candidate_literature_reviews/query_2_small.txt\n",
      "Successfully wrote: query_3_drug.txt to: robin_output/dry_age-related_macular_degeneration_2025-05-29_12-11/therapeutic_candidate_literature_reviews/query_3_drug.txt\n",
      "Successfully wrote: query_4_dry.txt to: robin_output/dry_age-related_macular_degeneration_2025-05-29_12-11/therapeutic_candidate_literature_reviews/query_4_dry.txt\n",
      "Successfully wrote: query_5_retinal.txt to: robin_output/dry_age-related_macular_degeneration_2025-05-29_12-11/therapeutic_candidate_literature_reviews/query_5_retinal.txt\n",
      "Successfully wrote: query_6_genetic.txt to: robin_output/dry_age-related_macular_degeneration_2025-05-29_12-11/therapeutic_candidate_literature_reviews/query_6_genetic.txt\n",
      "2025-05-29 12:41:18,091 - robin.candidates - INFO - \n",
      "Step 3: Generating 5 ideas for therapeutic candidates...\n",
      "2025-05-29 12:41:58,487 - robin.candidates - INFO - \n",
      "Successfully parsed 5 candidate ideas.\n",
      "2025-05-29 12:41:58,487 - robin.candidates - INFO - Candidate: Iptacopan (LNP023), a selective small-molecule inhibitor of complement factor B (Novartis...\n",
      "2025-05-29 12:41:58,488 - robin.candidates - INFO - Candidate: MCC950 (CRID3; Selleckchem catalog SML2236), a potent, selective small-molecule NLRP3 inf...\n",
      "2025-05-29 12:41:58,488 - robin.candidates - INFO - Candidate: Elamipretide (SS-31, MTP-131), a mitochondria-targeted tetrapeptide (Stealth BioTherapeut...\n",
      "2025-05-29 12:41:58,489 - robin.candidates - INFO - Candidate: SMER28 (Small-Molecule Enhancer of Rapamycin 28; Tocris catalog 4873), a beclin-1–depende...\n",
      "2025-05-29 12:41:58,489 - robin.candidates - INFO - Candidate: Avacincaptad pegol (Zimura; IVERIC bio), an RNA aptamer that selectively binds complement...\n",
      "2025-05-29 12:41:58,496 - robin.candidates - INFO - Successfully exported to robin_output/dry_age-related_macular_degeneration_2025-05-29_12-11/therapeutic_candidates_summary.txt\n",
      "2025-05-29 12:41:58,497 - robin.candidates - INFO - \n",
      "Step 4: Detailed investigation and evaluation for candidates...\n",
      "2025-05-29 12:41:59,022 - robin.utils - INFO - Starting literature search for 5 queries using job-futurehouse-paperqa2-deep.\n",
      "2025-05-29 12:52:35,351 - robin.utils - INFO - Finished processing 5 tasks.\n",
      "Successfully wrote: therapeutic_candidate_1_iptacopan.txt to: robin_output/dry_age-related_macular_degeneration_2025-05-29_12-11/therapeutic_candidate_detailed_hypotheses/therapeutic_candidate_1_iptacopan.txt\n",
      "Successfully wrote: therapeutic_candidate_2_mcc950.txt to: robin_output/dry_age-related_macular_degeneration_2025-05-29_12-11/therapeutic_candidate_detailed_hypotheses/therapeutic_candidate_2_mcc950.txt\n",
      "Successfully wrote: therapeutic_candidate_3_elamipretide.txt to: robin_output/dry_age-related_macular_degeneration_2025-05-29_12-11/therapeutic_candidate_detailed_hypotheses/therapeutic_candidate_3_elamipretide.txt\n",
      "Successfully wrote: therapeutic_candidate_4_smer28.txt to: robin_output/dry_age-related_macular_degeneration_2025-05-29_12-11/therapeutic_candidate_detailed_hypotheses/therapeutic_candidate_4_smer28.txt\n",
      "Successfully wrote: therapeutic_candidate_5_avacincaptad.txt to: robin_output/dry_age-related_macular_degeneration_2025-05-29_12-11/therapeutic_candidate_detailed_hypotheses/therapeutic_candidate_5_avacincaptad.txt\n",
      "2025-05-29 12:54:35,902 - robin.candidates - INFO - \n",
      "Step 5: Ranking the strength of the therapeutic candidates...\n",
      "2025-05-29 12:54:35,904 - robin.utils - INFO - Processing file: therapeutic_candidate_5_avacincaptad.txt...\n",
      "2025-05-29 12:54:35,911 - robin.utils - INFO - Processing file: therapeutic_candidate_3_elamipretide.txt...\n",
      "2025-05-29 12:54:35,916 - robin.utils - INFO - Processing file: therapeutic_candidate_4_smer28.txt...\n",
      "2025-05-29 12:54:35,920 - robin.utils - INFO - Processing file: therapeutic_candidate_2_mcc950.txt...\n",
      "2025-05-29 12:54:35,926 - robin.utils - INFO - Processing file: therapeutic_candidate_1_iptacopan.txt...\n",
      "2025-05-29 12:54:35,930 - robin.utils - INFO - Starting comparisons for 10 pairs with max concurrency 100...\n"
     ]
    },
    {
     "name": "stderr",
     "output_type": "stream",
     "text": [
      "Comparing Hypotheses: 100%|██████████| 10/10 [00:13<00:00,  1.31s/it]"
     ]
    },
    {
     "name": "stdout",
     "output_type": "stream",
     "text": [
      "2025-05-29 12:54:49,001 - robin.utils - INFO - \n",
      "Finished processing pairs.\n",
      "2025-05-29 12:54:49,001 - robin.utils - INFO -  - Successful comparisons: 10\n",
      "2025-05-29 12:54:49,002 - robin.utils - INFO -  - Errors encountered: 0\n",
      "2025-05-29 12:54:49,018 - robin.utils - INFO - Successfully saved 10 results to robin_output/dry_age-related_macular_degeneration_2025-05-29_12-11/therapeutic_candidate_ranking_results.csv\n",
      "2025-05-29 12:54:49,021 - robin.candidates - INFO - Processing ranking output from: robin_output/dry_age-related_macular_degeneration_2025-05-29_12-11/therapeutic_candidate_ranking_results.csv\n",
      "2025-05-29 12:54:49,052 - robin.candidates - INFO - Calling choix.ilsr_pairwise with n_items=5 and 10 games.\n",
      "2025-05-29 12:54:49,061 - robin.candidates - INFO - Therapeutic candidate generation finished! Saved final rankings to robin_output/dry_age-related_macular_degeneration_2025-05-29_12-11/ranked_therapeutic_candidates.csv\n"
     ]
    },
    {
     "name": "stderr",
     "output_type": "stream",
     "text": [
      "\n"
     ]
    }
   ],
   "source": [
    "await therapeutic_candidates(\n",
    "    candidate_generation_goal=candidate_generation_goal, configuration=config\n",
    ")"
   ]
  },
  {
   "cell_type": "markdown",
   "metadata": {},
   "source": [
    "# Therapeutic hypothesis generation with experimental data"
   ]
  },
  {
   "cell_type": "markdown",
   "metadata": {},
   "source": [
    "### Running this part of Robin requires access to the Finch data analysis agent, which is currently in a closed beta. Sign up to be a beta tester here: [bit.ly/finchbeta](www.bit.ly/finchbeta). The `robin_full.ipynb notebook` shows an example of the usage of therapeutic hypothesis generation with experimental data."
   ]
  }
 ],
 "metadata": {
  "kernelspec": {
   "display_name": ".venv",
   "language": "python",
   "name": "python3"
  },
  "language_info": {
   "codemirror_mode": {
    "name": "ipython",
    "version": 3
   },
   "file_extension": ".py",
   "mimetype": "text/x-python",
   "name": "python",
   "nbconvert_exporter": "python",
   "pygments_lexer": "ipython3",
   "version": "3.12.10"
  }
 },
 "nbformat": 4,
 "nbformat_minor": 2
}
